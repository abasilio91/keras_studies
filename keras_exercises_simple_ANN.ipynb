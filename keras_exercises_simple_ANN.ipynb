{
  "nbformat": 4,
  "nbformat_minor": 0,
  "metadata": {
    "colab": {
      "name": "keras_exercises_simple_ANN.ipynb",
      "provenance": [],
      "authorship_tag": "ABX9TyOVQJ6QEKvH6xr/3A7S/JR1",
      "include_colab_link": true
    },
    "kernelspec": {
      "name": "python3",
      "display_name": "Python 3"
    },
    "language_info": {
      "name": "python"
    }
  },
  "cells": [
    {
      "cell_type": "markdown",
      "metadata": {
        "id": "view-in-github",
        "colab_type": "text"
      },
      "source": [
        "<a href=\"https://colab.research.google.com/github/abasilio91/keras_studies/blob/main/keras_exercises_simple_ANN.ipynb\" target=\"_parent\"><img src=\"https://colab.research.google.com/assets/colab-badge.svg\" alt=\"Open In Colab\"/></a>"
      ]
    },
    {
      "cell_type": "markdown",
      "metadata": {
        "id": "8bwas20OpMRC"
      },
      "source": [
        "### Building the artificial dataset\n",
        "\n",
        "based on the youtube video at https://youtu.be/qFJeN9V1ZsI"
      ]
    },
    {
      "cell_type": "code",
      "metadata": {
        "id": "O0T_mpodh5N9"
      },
      "source": [
        "import numpy as np\n",
        "from random import randint\n",
        "from sklearn.utils import shuffle\n",
        "from sklearn.preprocessing import MinMaxScaler"
      ],
      "execution_count": 3,
      "outputs": []
    },
    {
      "cell_type": "code",
      "metadata": {
        "id": "ZbgR12ETpfVE"
      },
      "source": [
        "train_labels = []\n",
        "train_samples = []"
      ],
      "execution_count": 10,
      "outputs": []
    },
    {
      "cell_type": "code",
      "metadata": {
        "id": "yWcck1QHpiuT"
      },
      "source": [
        "for i in range(50):\n",
        "  random_younger = randint(13,64)\n",
        "  train_samples.append(random_younger)\n",
        "  train_labels.append(1)\n",
        "\n",
        "  random_older = randint(65,100)\n",
        "  train_samples.append(random_older)\n",
        "  train_labels.append(0)\n",
        "\n",
        "for i in range(1000):\n",
        "  random_younger = randint(13,64)\n",
        "  train_samples.append(random_younger)\n",
        "  train_labels.append(0)\n",
        "  \n",
        "  random_older = randint(65,100)\n",
        "  train_samples.append(random_older)\n",
        "  train_labels.append(1)"
      ],
      "execution_count": 11,
      "outputs": []
    },
    {
      "cell_type": "code",
      "metadata": {
        "id": "_CNJ2QyYqKg7"
      },
      "source": [
        "train_labels = np.array(train_labels)\n",
        "train_samples = np.array(train_samples)\n",
        "\n",
        "train_labels,train_samples = shuffle(train_labels,train_samples)"
      ],
      "execution_count": 12,
      "outputs": []
    },
    {
      "cell_type": "code",
      "metadata": {
        "id": "YX1CPm_UqtMq"
      },
      "source": [
        "scaler = MinMaxScaler(feature_range=(0,1))\n",
        "scaled_train_samples = scaler.fit_transform(train_samples.reshape(-1,1))"
      ],
      "execution_count": 13,
      "outputs": []
    },
    {
      "cell_type": "markdown",
      "metadata": {
        "id": "nyAiFzKGrTp6"
      },
      "source": [
        "### Building the model using Keras"
      ]
    },
    {
      "cell_type": "code",
      "metadata": {
        "id": "q2jl8mkNrR3k"
      },
      "source": [
        "import tensorflow as tf\n",
        "from tensorflow import keras\n",
        "from tensorflow.keras.models import Sequential\n",
        "from tensorflow.keras.layers import Activation, Dense\n",
        "from tensorflow.keras.optimizers import Adam\n",
        "from tensorflow.keras.metrics import categorical_crossentropy"
      ],
      "execution_count": 17,
      "outputs": []
    },
    {
      "cell_type": "code",
      "metadata": {
        "id": "ES0S0YZCrl9l"
      },
      "source": [
        "model = Sequential([\n",
        "                    Dense(units=16, input_shape=(1,), activation = 'relu'),\n",
        "                    Dense(units=32, activation='relu'),\n",
        "                    Dense(units=2, activation='softmax')\n",
        "])"
      ],
      "execution_count": 18,
      "outputs": []
    },
    {
      "cell_type": "code",
      "metadata": {
        "colab": {
          "base_uri": "https://localhost:8080/"
        },
        "id": "hLCBf4Otr23i",
        "outputId": "5f6752e7-5787-4a9f-86b7-2a381ff55d82"
      },
      "source": [
        "model.summary()"
      ],
      "execution_count": 19,
      "outputs": [
        {
          "output_type": "stream",
          "text": [
            "Model: \"sequential\"\n",
            "_________________________________________________________________\n",
            "Layer (type)                 Output Shape              Param #   \n",
            "=================================================================\n",
            "dense (Dense)                (None, 16)                32        \n",
            "_________________________________________________________________\n",
            "dense_1 (Dense)              (None, 32)                544       \n",
            "_________________________________________________________________\n",
            "dense_2 (Dense)              (None, 2)                 66        \n",
            "=================================================================\n",
            "Total params: 642\n",
            "Trainable params: 642\n",
            "Non-trainable params: 0\n",
            "_________________________________________________________________\n"
          ],
          "name": "stdout"
        }
      ]
    },
    {
      "cell_type": "markdown",
      "metadata": {
        "id": "XLYadczgsisl"
      },
      "source": [
        "### Training the model"
      ]
    },
    {
      "cell_type": "code",
      "metadata": {
        "id": "t9ZkdV8Kr4qC"
      },
      "source": [
        "model.compile(optimizer=Adam(learning_rate=0.0001), loss='sparse_categorical_crossentropy', metrics=['accuracy'])"
      ],
      "execution_count": 20,
      "outputs": []
    },
    {
      "cell_type": "code",
      "metadata": {
        "colab": {
          "base_uri": "https://localhost:8080/"
        },
        "id": "J_0f2DuEsxNK",
        "outputId": "0951ac9a-7b59-4193-8e22-00dc483997dc"
      },
      "source": [
        "model.fit(x=scaled_train_samples, y=train_labels, batch_size=10, epochs=30, shuffle=True, verbose=2)"
      ],
      "execution_count": 24,
      "outputs": [
        {
          "output_type": "stream",
          "text": [
            "Epoch 1/30\n",
            "210/210 - 0s - loss: 0.2426 - accuracy: 0.9462\n",
            "Epoch 2/30\n",
            "210/210 - 0s - loss: 0.2424 - accuracy: 0.9462\n",
            "Epoch 3/30\n",
            "210/210 - 0s - loss: 0.2422 - accuracy: 0.9462\n",
            "Epoch 4/30\n",
            "210/210 - 0s - loss: 0.2420 - accuracy: 0.9462\n",
            "Epoch 5/30\n",
            "210/210 - 0s - loss: 0.2419 - accuracy: 0.9462\n",
            "Epoch 6/30\n",
            "210/210 - 0s - loss: 0.2417 - accuracy: 0.9462\n",
            "Epoch 7/30\n",
            "210/210 - 0s - loss: 0.2414 - accuracy: 0.9462\n",
            "Epoch 8/30\n",
            "210/210 - 0s - loss: 0.2413 - accuracy: 0.9462\n",
            "Epoch 9/30\n",
            "210/210 - 0s - loss: 0.2411 - accuracy: 0.9462\n",
            "Epoch 10/30\n",
            "210/210 - 0s - loss: 0.2410 - accuracy: 0.9462\n",
            "Epoch 11/30\n",
            "210/210 - 0s - loss: 0.2408 - accuracy: 0.9462\n",
            "Epoch 12/30\n",
            "210/210 - 0s - loss: 0.2407 - accuracy: 0.9462\n",
            "Epoch 13/30\n",
            "210/210 - 0s - loss: 0.2405 - accuracy: 0.9462\n",
            "Epoch 14/30\n",
            "210/210 - 0s - loss: 0.2403 - accuracy: 0.9462\n",
            "Epoch 15/30\n",
            "210/210 - 0s - loss: 0.2402 - accuracy: 0.9462\n",
            "Epoch 16/30\n",
            "210/210 - 0s - loss: 0.2400 - accuracy: 0.9471\n",
            "Epoch 17/30\n",
            "210/210 - 0s - loss: 0.2398 - accuracy: 0.9462\n",
            "Epoch 18/30\n",
            "210/210 - 0s - loss: 0.2396 - accuracy: 0.9462\n",
            "Epoch 19/30\n",
            "210/210 - 0s - loss: 0.2395 - accuracy: 0.9462\n",
            "Epoch 20/30\n",
            "210/210 - 0s - loss: 0.2394 - accuracy: 0.9462\n",
            "Epoch 21/30\n",
            "210/210 - 0s - loss: 0.2392 - accuracy: 0.9462\n",
            "Epoch 22/30\n",
            "210/210 - 0s - loss: 0.2391 - accuracy: 0.9462\n",
            "Epoch 23/30\n",
            "210/210 - 0s - loss: 0.2389 - accuracy: 0.9462\n",
            "Epoch 24/30\n",
            "210/210 - 0s - loss: 0.2387 - accuracy: 0.9462\n",
            "Epoch 25/30\n",
            "210/210 - 0s - loss: 0.2386 - accuracy: 0.9462\n",
            "Epoch 26/30\n",
            "210/210 - 0s - loss: 0.2386 - accuracy: 0.9462\n",
            "Epoch 27/30\n",
            "210/210 - 0s - loss: 0.2384 - accuracy: 0.9462\n",
            "Epoch 28/30\n",
            "210/210 - 0s - loss: 0.2382 - accuracy: 0.9462\n",
            "Epoch 29/30\n",
            "210/210 - 0s - loss: 0.2381 - accuracy: 0.9462\n",
            "Epoch 30/30\n",
            "210/210 - 0s - loss: 0.2380 - accuracy: 0.9462\n"
          ],
          "name": "stdout"
        },
        {
          "output_type": "execute_result",
          "data": {
            "text/plain": [
              "<tensorflow.python.keras.callbacks.History at 0x7fa429142d90>"
            ]
          },
          "metadata": {
            "tags": []
          },
          "execution_count": 24
        }
      ]
    }
  ]
}
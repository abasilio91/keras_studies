{
  "nbformat": 4,
  "nbformat_minor": 0,
  "metadata": {
    "colab": {
      "name": "keras_exercises_simple_ANN.ipynb",
      "provenance": [],
      "authorship_tag": "ABX9TyPkp8ho/hpF2zkR+MM3pAQn",
      "include_colab_link": true
    },
    "kernelspec": {
      "name": "python3",
      "display_name": "Python 3"
    },
    "language_info": {
      "name": "python"
    }
  },
  "cells": [
    {
      "cell_type": "markdown",
      "metadata": {
        "id": "view-in-github",
        "colab_type": "text"
      },
      "source": [
        "<a href=\"https://colab.research.google.com/github/abasilio91/keras_studies/blob/main/keras_exercises_simple_ANN.ipynb\" target=\"_parent\"><img src=\"https://colab.research.google.com/assets/colab-badge.svg\" alt=\"Open In Colab\"/></a>"
      ]
    },
    {
      "cell_type": "markdown",
      "metadata": {
        "id": "8bwas20OpMRC"
      },
      "source": [
        "### Building the artificial dataset\n",
        "\n",
        "based on the youtube video at https://youtu.be/qFJeN9V1ZsI"
      ]
    },
    {
      "cell_type": "code",
      "metadata": {
        "id": "O0T_mpodh5N9"
      },
      "source": [
        "import numpy as np\n",
        "from random import randint\n",
        "from sklearn.utils import shuffle\n",
        "from sklearn.preprocessing import MinMaxScaler"
      ],
      "execution_count": 1,
      "outputs": []
    },
    {
      "cell_type": "code",
      "metadata": {
        "id": "ZbgR12ETpfVE"
      },
      "source": [
        "train_labels = []\n",
        "train_samples = []"
      ],
      "execution_count": 2,
      "outputs": []
    },
    {
      "cell_type": "code",
      "metadata": {
        "id": "yWcck1QHpiuT"
      },
      "source": [
        "for i in range(50):\n",
        "  random_younger = randint(13,64)\n",
        "  train_samples.append(random_younger)\n",
        "  train_labels.append(1)\n",
        "\n",
        "  random_older = randint(65,100)\n",
        "  train_samples.append(random_older)\n",
        "  train_labels.append(0)\n",
        "\n",
        "for i in range(1000):\n",
        "  random_younger = randint(13,64)\n",
        "  train_samples.append(random_younger)\n",
        "  train_labels.append(0)\n",
        "  \n",
        "  random_older = randint(65,100)\n",
        "  train_samples.append(random_older)\n",
        "  train_labels.append(1)"
      ],
      "execution_count": 3,
      "outputs": []
    },
    {
      "cell_type": "code",
      "metadata": {
        "id": "_CNJ2QyYqKg7"
      },
      "source": [
        "train_labels = np.array(train_labels)\n",
        "train_samples = np.array(train_samples)\n",
        "\n",
        "train_labels, train_samples = shuffle(train_labels,train_samples)"
      ],
      "execution_count": 4,
      "outputs": []
    },
    {
      "cell_type": "code",
      "metadata": {
        "id": "YX1CPm_UqtMq"
      },
      "source": [
        "scaler = MinMaxScaler(feature_range=(0,1))\n",
        "scaled_train_samples = scaler.fit_transform(train_samples.reshape(-1,1))"
      ],
      "execution_count": 5,
      "outputs": []
    },
    {
      "cell_type": "markdown",
      "metadata": {
        "id": "nyAiFzKGrTp6"
      },
      "source": [
        "### Building the model using Keras"
      ]
    },
    {
      "cell_type": "code",
      "metadata": {
        "id": "q2jl8mkNrR3k"
      },
      "source": [
        "import tensorflow as tf\n",
        "from tensorflow import keras\n",
        "from tensorflow.keras.models import Sequential\n",
        "from tensorflow.keras.layers import Activation, Dense\n",
        "from tensorflow.keras.optimizers import Adam\n",
        "from tensorflow.keras.metrics import categorical_crossentropy"
      ],
      "execution_count": 6,
      "outputs": []
    },
    {
      "cell_type": "code",
      "metadata": {
        "id": "ES0S0YZCrl9l"
      },
      "source": [
        "model = Sequential([\n",
        "                    Dense(units=16, input_shape=(1,), activation = 'relu'),\n",
        "                    Dense(units=32, activation='relu'),\n",
        "                    Dense(units=2, activation='softmax')\n",
        "])"
      ],
      "execution_count": 7,
      "outputs": []
    },
    {
      "cell_type": "code",
      "metadata": {
        "colab": {
          "base_uri": "https://localhost:8080/"
        },
        "id": "hLCBf4Otr23i",
        "outputId": "03e5c12b-6b22-439c-db98-42df38038539"
      },
      "source": [
        "model.summary()"
      ],
      "execution_count": 8,
      "outputs": [
        {
          "output_type": "stream",
          "text": [
            "Model: \"sequential\"\n",
            "_________________________________________________________________\n",
            "Layer (type)                 Output Shape              Param #   \n",
            "=================================================================\n",
            "dense (Dense)                (None, 16)                32        \n",
            "_________________________________________________________________\n",
            "dense_1 (Dense)              (None, 32)                544       \n",
            "_________________________________________________________________\n",
            "dense_2 (Dense)              (None, 2)                 66        \n",
            "=================================================================\n",
            "Total params: 642\n",
            "Trainable params: 642\n",
            "Non-trainable params: 0\n",
            "_________________________________________________________________\n"
          ],
          "name": "stdout"
        }
      ]
    },
    {
      "cell_type": "markdown",
      "metadata": {
        "id": "XLYadczgsisl"
      },
      "source": [
        "### Training the model"
      ]
    },
    {
      "cell_type": "code",
      "metadata": {
        "id": "t9ZkdV8Kr4qC"
      },
      "source": [
        "model.compile(optimizer=Adam(learning_rate=0.0001), loss='sparse_categorical_crossentropy', metrics=['accuracy'])"
      ],
      "execution_count": 9,
      "outputs": []
    },
    {
      "cell_type": "code",
      "metadata": {
        "colab": {
          "base_uri": "https://localhost:8080/"
        },
        "id": "J_0f2DuEsxNK",
        "outputId": "83e996a7-f98d-47d3-8b84-3b2bcd0aa72b"
      },
      "source": [
        "model.fit(x=scaled_train_samples, y=train_labels, batch_size=10, epochs=30, shuffle=True, verbose=2, validation_split=0.1)"
      ],
      "execution_count": 10,
      "outputs": [
        {
          "output_type": "stream",
          "text": [
            "Epoch 1/30\n",
            "189/189 - 1s - loss: 0.7057 - accuracy: 0.4053 - val_loss: 0.6871 - val_accuracy: 0.5429\n",
            "Epoch 2/30\n",
            "189/189 - 0s - loss: 0.6741 - accuracy: 0.5513 - val_loss: 0.6590 - val_accuracy: 0.6000\n",
            "Epoch 3/30\n",
            "189/189 - 0s - loss: 0.6461 - accuracy: 0.6222 - val_loss: 0.6294 - val_accuracy: 0.6714\n",
            "Epoch 4/30\n",
            "189/189 - 0s - loss: 0.6159 - accuracy: 0.6847 - val_loss: 0.6003 - val_accuracy: 0.7286\n",
            "Epoch 5/30\n",
            "189/189 - 0s - loss: 0.5880 - accuracy: 0.7238 - val_loss: 0.5745 - val_accuracy: 0.7524\n",
            "Epoch 6/30\n",
            "189/189 - 0s - loss: 0.5607 - accuracy: 0.7614 - val_loss: 0.5473 - val_accuracy: 0.7714\n",
            "Epoch 7/30\n",
            "189/189 - 0s - loss: 0.5321 - accuracy: 0.7873 - val_loss: 0.5199 - val_accuracy: 0.7952\n",
            "Epoch 8/30\n",
            "189/189 - 0s - loss: 0.5033 - accuracy: 0.8201 - val_loss: 0.4934 - val_accuracy: 0.8286\n",
            "Epoch 9/30\n",
            "189/189 - 0s - loss: 0.4755 - accuracy: 0.8344 - val_loss: 0.4685 - val_accuracy: 0.8333\n",
            "Epoch 10/30\n",
            "189/189 - 0s - loss: 0.4492 - accuracy: 0.8598 - val_loss: 0.4456 - val_accuracy: 0.8381\n",
            "Epoch 11/30\n",
            "189/189 - 0s - loss: 0.4245 - accuracy: 0.8656 - val_loss: 0.4251 - val_accuracy: 0.8524\n",
            "Epoch 12/30\n",
            "189/189 - 0s - loss: 0.4019 - accuracy: 0.8810 - val_loss: 0.4073 - val_accuracy: 0.8619\n",
            "Epoch 13/30\n",
            "189/189 - 0s - loss: 0.3816 - accuracy: 0.8942 - val_loss: 0.3912 - val_accuracy: 0.8714\n",
            "Epoch 14/30\n",
            "189/189 - 0s - loss: 0.3632 - accuracy: 0.9037 - val_loss: 0.3772 - val_accuracy: 0.8619\n",
            "Epoch 15/30\n",
            "189/189 - 0s - loss: 0.3473 - accuracy: 0.9063 - val_loss: 0.3656 - val_accuracy: 0.8714\n",
            "Epoch 16/30\n",
            "189/189 - 0s - loss: 0.3332 - accuracy: 0.9106 - val_loss: 0.3557 - val_accuracy: 0.8857\n",
            "Epoch 17/30\n",
            "189/189 - 0s - loss: 0.3209 - accuracy: 0.9159 - val_loss: 0.3476 - val_accuracy: 0.8857\n",
            "Epoch 18/30\n",
            "189/189 - 0s - loss: 0.3104 - accuracy: 0.9233 - val_loss: 0.3406 - val_accuracy: 0.8857\n",
            "Epoch 19/30\n",
            "189/189 - 0s - loss: 0.3012 - accuracy: 0.9243 - val_loss: 0.3350 - val_accuracy: 0.8857\n",
            "Epoch 20/30\n",
            "189/189 - 0s - loss: 0.2932 - accuracy: 0.9280 - val_loss: 0.3303 - val_accuracy: 0.8857\n",
            "Epoch 21/30\n",
            "189/189 - 0s - loss: 0.2864 - accuracy: 0.9291 - val_loss: 0.3264 - val_accuracy: 0.8857\n",
            "Epoch 22/30\n",
            "189/189 - 0s - loss: 0.2805 - accuracy: 0.9312 - val_loss: 0.3233 - val_accuracy: 0.8952\n",
            "Epoch 23/30\n",
            "189/189 - 0s - loss: 0.2755 - accuracy: 0.9312 - val_loss: 0.3206 - val_accuracy: 0.8952\n",
            "Epoch 24/30\n",
            "189/189 - 0s - loss: 0.2708 - accuracy: 0.9360 - val_loss: 0.3187 - val_accuracy: 0.8952\n",
            "Epoch 25/30\n",
            "189/189 - 0s - loss: 0.2671 - accuracy: 0.9291 - val_loss: 0.3166 - val_accuracy: 0.8952\n",
            "Epoch 26/30\n",
            "189/189 - 0s - loss: 0.2635 - accuracy: 0.9354 - val_loss: 0.3152 - val_accuracy: 0.8952\n",
            "Epoch 27/30\n",
            "189/189 - 0s - loss: 0.2606 - accuracy: 0.9333 - val_loss: 0.3142 - val_accuracy: 0.8952\n",
            "Epoch 28/30\n",
            "189/189 - 0s - loss: 0.2578 - accuracy: 0.9381 - val_loss: 0.3133 - val_accuracy: 0.8952\n",
            "Epoch 29/30\n",
            "189/189 - 0s - loss: 0.2553 - accuracy: 0.9354 - val_loss: 0.3122 - val_accuracy: 0.9048\n",
            "Epoch 30/30\n",
            "189/189 - 0s - loss: 0.2533 - accuracy: 0.9392 - val_loss: 0.3121 - val_accuracy: 0.8952\n"
          ],
          "name": "stdout"
        },
        {
          "output_type": "execute_result",
          "data": {
            "text/plain": [
              "<tensorflow.python.keras.callbacks.History at 0x7f4cda1c4910>"
            ]
          },
          "metadata": {
            "tags": []
          },
          "execution_count": 10
        }
      ]
    },
    {
      "cell_type": "markdown",
      "metadata": {
        "id": "3J76QbBs9p7S"
      },
      "source": [
        "### Making artificial test samples"
      ]
    },
    {
      "cell_type": "code",
      "metadata": {
        "id": "l_Zqa7ro9t4-"
      },
      "source": [
        "test_labels = []\n",
        "test_samples = []"
      ],
      "execution_count": 11,
      "outputs": []
    },
    {
      "cell_type": "code",
      "metadata": {
        "id": "nxgqPPHz90GJ"
      },
      "source": [
        "for i in range(50):\n",
        "  random_younger = randint(13,64)\n",
        "  test_samples.append(random_younger)\n",
        "  test_labels.append(1)\n",
        "\n",
        "  random_older = randint(65,100)\n",
        "  test_samples.append(random_older)\n",
        "  test_labels.append(0)\n",
        "\n",
        "for i in range(1000):\n",
        "  random_younger = randint(13,64)\n",
        "  test_samples.append(random_younger)\n",
        "  test_labels.append(0)\n",
        "  \n",
        "  random_older = randint(65,100)\n",
        "  test_samples.append(random_older)\n",
        "  test_labels.append(1)"
      ],
      "execution_count": 12,
      "outputs": []
    },
    {
      "cell_type": "code",
      "metadata": {
        "id": "MrxvJV1J934X"
      },
      "source": [
        "test_labels = np.array(test_labels)\n",
        "test_samples = np.array(test_samples)\n",
        "\n",
        "test_labels, test_samples = shuffle(test_labels,test_samples)"
      ],
      "execution_count": 13,
      "outputs": []
    },
    {
      "cell_type": "code",
      "metadata": {
        "id": "arz6i2mj-Fji"
      },
      "source": [
        "scaler = MinMaxScaler(feature_range=(0,1))\n",
        "scaled_test_samples = scaler.fit_transform(test_samples.reshape(-1,1))"
      ],
      "execution_count": 14,
      "outputs": []
    },
    {
      "cell_type": "markdown",
      "metadata": {
        "id": "gLOuX1Xs-UP0"
      },
      "source": [
        "predicting"
      ]
    },
    {
      "cell_type": "code",
      "metadata": {
        "id": "K80sphhM-TFm"
      },
      "source": [
        "predictions = model.predict(x=scaled_test_samples, batch_size=10, verbose=0)"
      ],
      "execution_count": 15,
      "outputs": []
    },
    {
      "cell_type": "code",
      "metadata": {
        "colab": {
          "base_uri": "https://localhost:8080/"
        },
        "id": "qAjJ_6v_-rH9",
        "outputId": "11906315-f75b-49b6-c7ff-719eb9322242"
      },
      "source": [
        "predictions"
      ],
      "execution_count": 16,
      "outputs": [
        {
          "output_type": "execute_result",
          "data": {
            "text/plain": [
              "array([[0.0922152 , 0.9077848 ],\n",
              "       [0.9551393 , 0.04486075],\n",
              "       [0.7903191 , 0.20968089],\n",
              "       ...,\n",
              "       [0.9576547 , 0.04234526],\n",
              "       [0.95792764, 0.04207231],\n",
              "       [0.1655261 , 0.8344739 ]], dtype=float32)"
            ]
          },
          "metadata": {
            "tags": []
          },
          "execution_count": 16
        }
      ]
    },
    {
      "cell_type": "code",
      "metadata": {
        "id": "kXBEX_KI-cCv"
      },
      "source": [
        "rounded_predcitions = np.argmax(predictions, axis=-1)"
      ],
      "execution_count": 17,
      "outputs": []
    },
    {
      "cell_type": "code",
      "metadata": {
        "colab": {
          "base_uri": "https://localhost:8080/"
        },
        "id": "OoO6M75J-f2l",
        "outputId": "4dd52204-9222-423e-ba42-3a954c433b67"
      },
      "source": [
        "rounded_predcitions"
      ],
      "execution_count": 18,
      "outputs": [
        {
          "output_type": "execute_result",
          "data": {
            "text/plain": [
              "array([1, 0, 0, ..., 0, 0, 1])"
            ]
          },
          "metadata": {
            "tags": []
          },
          "execution_count": 18
        }
      ]
    },
    {
      "cell_type": "markdown",
      "metadata": {
        "id": "S5g-xtj1_Lqi"
      },
      "source": [
        "confusion matrix"
      ]
    },
    {
      "cell_type": "code",
      "metadata": {
        "id": "GnKw4aO__Njc"
      },
      "source": [
        "from sklearn.metrics import confusion_matrix\n",
        "import itertools\n",
        "import matplotlib.pyplot as plt"
      ],
      "execution_count": 19,
      "outputs": []
    },
    {
      "cell_type": "code",
      "metadata": {
        "id": "N8Ao16Ga_TJm"
      },
      "source": [
        "cm = confusion_matrix(y_true=test_labels, y_pred=rounded_predcitions)"
      ],
      "execution_count": 20,
      "outputs": []
    },
    {
      "cell_type": "code",
      "metadata": {
        "id": "BZ3rq73g_YDU"
      },
      "source": [
        "def plot_confusion_matrix(cm,classes, normalize=False, title='Confusion Matrix', cmap=plt.cm.Blues):\n",
        "\n",
        "  plt.imshow(cm, interpolation='nearest', cmap=cmap)\n",
        "  plt.title(title)\n",
        "  plt.colorbar()\n",
        "  tick_marks = np.arange(len(classes))\n",
        "  plt.xticks(tick_marks, classes, rotation=45)\n",
        "  plt.yticks(tick_marks, classes)\n",
        "\n",
        "  if normalize:\n",
        "    cm = cm.astype('float') / cm.sum(axis=1)[:,np.newaxis]\n",
        "    print('Normalized confusion matrix')\n",
        "\n",
        "  else:\n",
        "    print('Confusion matrix, without normalization')\n",
        "\n",
        "  print(cm)\n",
        "  thresh = cm.max() / 2.\n",
        "  for i,j in itertools.product(range(cm.shape[0]), range(cm.shape[1])):\n",
        "    plt.text(j,i, cm[i,j],\n",
        "             horizontalalignment='center',\n",
        "             color='white' if cm[i,j] > thresh else 'black')\n",
        "  \n",
        "  plt.tight_layout()\n",
        "  plt.ylabel('True label')\n",
        "  plt.xlabel('Predicted label')"
      ],
      "execution_count": 21,
      "outputs": []
    },
    {
      "cell_type": "code",
      "metadata": {
        "colab": {
          "base_uri": "https://localhost:8080/",
          "height": 362
        },
        "id": "oU63U3E8AwoO",
        "outputId": "775866d5-04af-4f18-b51a-9c1a98c5d814"
      },
      "source": [
        "cm_plot_labels = ['no_side_effects', 'had_side_effects']\n",
        "plot_confusion_matrix(cm=cm, classes=cm_plot_labels, title='Confusion Matrix')"
      ],
      "execution_count": 22,
      "outputs": [
        {
          "output_type": "stream",
          "text": [
            "Confusion matrix, without normalization\n",
            "[[ 945  105]\n",
            " [  45 1005]]\n"
          ],
          "name": "stdout"
        },
        {
          "output_type": "display_data",
          "data": {
            "image/png": "[encoded data removed]",
            "text/plain": [
              "<Figure size 432x288 with 2 Axes>"
            ]
          },
          "metadata": {
            "tags": [],
            "needs_background": "light"
          }
        }
      ]
    },
    {
      "cell_type": "markdown",
      "metadata": {
        "id": "p59xA7MpDzcb"
      },
      "source": [
        "# Saving the model\n",
        "\n",
        "Saves everything"
      ]
    },
    {
      "cell_type": "code",
      "metadata": {
        "id": "RQnEPP1LBZWc"
      },
      "source": [
        "  import os.path\n",
        "  if os.path.isfile('models/medical_trial_model.h5') is False:\n",
        "    model.save('models/medical_trial_model.h5')"
      ],
      "execution_count": 24,
      "outputs": []
    },
    {
      "cell_type": "markdown",
      "metadata": {
        "id": "LXXaiidSPwnf"
      },
      "source": [
        "# Loading the model"
      ]
    },
    {
      "cell_type": "code",
      "metadata": {
        "id": "B_1G1B8ePx4V"
      },
      "source": [
        "from tensorflow.keras.models import load_model\n",
        "new_model = load_model('models/medical_trial_model.h5')"
      ],
      "execution_count": 27,
      "outputs": []
    },
    {
      "cell_type": "code",
      "metadata": {
        "colab": {
          "base_uri": "https://localhost:8080/"
        },
        "id": "CTsJZNrAP6rb",
        "outputId": "5967c42f-fe73-4db6-f5fe-33fb62f7ea1f"
      },
      "source": [
        "new_model.summary()"
      ],
      "execution_count": 29,
      "outputs": [
        {
          "output_type": "stream",
          "text": [
            "Model: \"sequential\"\n",
            "_________________________________________________________________\n",
            "Layer (type)                 Output Shape              Param #   \n",
            "=================================================================\n",
            "dense (Dense)                (None, 16)                32        \n",
            "_________________________________________________________________\n",
            "dense_1 (Dense)              (None, 32)                544       \n",
            "_________________________________________________________________\n",
            "dense_2 (Dense)              (None, 2)                 66        \n",
            "=================================================================\n",
            "Total params: 642\n",
            "Trainable params: 642\n",
            "Non-trainable params: 0\n",
            "_________________________________________________________________\n"
          ],
          "name": "stdout"
        }
      ]
    },
    {
      "cell_type": "code",
      "metadata": {
        "colab": {
          "base_uri": "https://localhost:8080/"
        },
        "id": "XDt0_vqLQDLL",
        "outputId": "7c9304ba-923b-4154-fa92-f6c3a808a986"
      },
      "source": [
        "new_model.get_weights()"
      ],
      "execution_count": 30,
      "outputs": [
        {
          "output_type": "execute_result",
          "data": {
            "text/plain": [
              "[array([[-0.11511254, -0.11714834,  0.5750631 ,  0.6024688 ,  0.5711758 ,\n",
              "          0.32264018, -0.42454606,  0.7198497 , -0.2788613 , -0.28463364,\n",
              "         -0.5747298 ,  0.770918  ,  0.64180523, -0.49537572, -0.30074325,\n",
              "         -0.1261045 ]], dtype=float32),\n",
              " array([ 0.        ,  0.        , -0.14120366, -0.15416674, -0.17129806,\n",
              "         0.2140407 ,  0.        , -0.00649926,  0.        ,  0.        ,\n",
              "         0.        , -0.15695284, -0.17927586,  0.        ,  0.        ,\n",
              "         0.        ], dtype=float32),\n",
              " array([[-0.3101231 , -0.05907235,  0.22310612,  0.07525024, -0.01737884,\n",
              "          0.0222854 ,  0.23851195,  0.18375435,  0.03859091,  0.29890618,\n",
              "         -0.25166398, -0.01867762,  0.11430588, -0.04329601, -0.07173815,\n",
              "         -0.12765117,  0.15692547,  0.24837324,  0.09954512,  0.33560893,\n",
              "         -0.30867153,  0.2781336 ,  0.19246289,  0.19349608,  0.10974279,\n",
              "          0.14702997,  0.0948604 ,  0.3416817 , -0.02673855,  0.16816577,\n",
              "         -0.18207759, -0.31360003],\n",
              "        [-0.1483891 ,  0.22186068, -0.09220433, -0.10325783, -0.0459162 ,\n",
              "         -0.12884122,  0.26535442, -0.05922356,  0.14512146,  0.09508404,\n",
              "          0.10820267,  0.24201038,  0.26019177,  0.29885212,  0.20054051,\n",
              "         -0.2706947 , -0.07143402,  0.30213085,  0.33771232,  0.27391455,\n",
              "         -0.2241822 ,  0.16643557, -0.04353526, -0.32417527, -0.19193928,\n",
              "          0.23650053,  0.11503065, -0.06838089,  0.07040218,  0.28066322,\n",
              "          0.11385491, -0.08711484],\n",
              "        [ 0.27502778,  0.44337893,  0.13732277, -0.10885318,  0.257265  ,\n",
              "          0.28687724,  0.18589821,  0.27202883,  0.55608255, -0.24050441,\n",
              "         -0.2651621 , -0.24991791, -0.07715899,  0.01268172, -0.03466274,\n",
              "         -0.08641382, -0.18019314,  0.2573074 ,  0.47028843, -0.17605716,\n",
              "          0.06687769,  0.24132125,  0.2548966 , -0.12895969, -0.16598308,\n",
              "          0.26595205, -0.05957857, -0.09158104, -0.18643749,  0.01147562,\n",
              "         -0.29168534, -0.3010548 ],\n",
              "        [ 0.14250998, -0.01420385, -0.5190994 ,  0.20584479,  0.07392652,\n",
              "         -0.12529954, -0.10592347,  0.5087577 ,  0.49052995,  0.25554875,\n",
              "         -0.46301082, -0.31327128, -0.00603765, -0.2712987 , -0.23581335,\n",
              "         -0.15754658, -0.40087998,  0.17605482,  0.14859673,  0.12470579,\n",
              "         -0.16570841,  0.453125  ,  0.03896332, -0.37923923,  0.24565078,\n",
              "          0.33145574, -0.16946849, -0.35697156,  0.10943311,  0.4643124 ,\n",
              "         -0.03886895, -0.29999477],\n",
              "        [ 0.22704446,  0.42884457, -0.16292359, -0.25680116, -0.06167451,\n",
              "         -0.09648097,  0.32573172,  0.28235754,  0.23220769, -0.25347686,\n",
              "         -0.44331098, -0.17227246, -0.02947626, -0.1802431 , -0.08743557,\n",
              "          0.13165049, -0.4276101 ,  0.26493916,  0.43807095, -0.20679495,\n",
              "         -0.3138409 ,  0.32438326, -0.1588636 , -0.12549934, -0.08366832,\n",
              "          0.14847958,  0.33452737, -0.54324704, -0.01957694,  0.4584865 ,\n",
              "          0.0310996 , -0.45363516],\n",
              "        [-0.15503956, -0.04117388,  0.17591879, -0.05944249,  0.04160546,\n",
              "          0.09545729, -0.28946465,  0.11607449, -0.03568742,  0.11859272,\n",
              "          0.34324196, -0.27636775,  0.18290892,  0.00808856,  0.0873157 ,\n",
              "          0.15579791,  0.04475655, -0.06860921, -0.16869521, -0.2516499 ,\n",
              "          0.15914853,  0.04847406, -0.11774792,  0.24094306,  0.29177785,\n",
              "          0.10662708,  0.00951182,  0.34722757,  0.17000881,  0.04148301,\n",
              "          0.06177263,  0.00352697],\n",
              "        [-0.21688683, -0.18524079, -0.13174169,  0.32119498, -0.1290957 ,\n",
              "          0.02278358,  0.32694033, -0.2560798 ,  0.32494864,  0.18239042,\n",
              "          0.32914773,  0.17571214, -0.18721496, -0.01884714,  0.05985764,\n",
              "         -0.02990916, -0.06454757, -0.28883767, -0.0030956 ,  0.29752877,\n",
              "         -0.23859347, -0.02667272,  0.21948168, -0.28224993,  0.27875057,\n",
              "         -0.23288755, -0.05136293, -0.304412  ,  0.03724113,  0.3122085 ,\n",
              "         -0.02311754,  0.29138562],\n",
              "        [-0.3725119 ,  0.25635126,  0.11509919, -0.34402516,  0.42475727,\n",
              "         -0.28685528, -0.19274801, -0.04113674,  0.09896778, -0.36547932,\n",
              "         -0.09352916, -0.03951123, -0.06456863,  0.05405416,  0.10322258,\n",
              "          0.09943777,  0.2868595 ,  0.3092766 ,  0.12192919, -0.30845448,\n",
              "          0.07690447, -0.12264179, -0.08923414, -0.0809733 , -0.28458226,\n",
              "         -0.07545743, -0.33167067,  0.10002533, -0.23249796,  0.47811908,\n",
              "         -0.06102575, -0.02155365],\n",
              "        [ 0.06237522, -0.14133221,  0.27890489, -0.35242015,  0.26239344,\n",
              "         -0.10902353, -0.05916557, -0.129026  , -0.27718246, -0.12119681,\n",
              "          0.32967278, -0.23812649, -0.12811352, -0.1378314 , -0.08158121,\n",
              "         -0.12046529, -0.34370688, -0.2563159 ,  0.12359285, -0.17846501,\n",
              "         -0.00665221,  0.13747492, -0.14864165,  0.22490332,  0.05118179,\n",
              "          0.01335213,  0.30712107,  0.29041722,  0.05976045,  0.10730782,\n",
              "         -0.19378287,  0.35223588],\n",
              "        [-0.15105489,  0.30837837, -0.13716692, -0.06010073,  0.299529  ,\n",
              "          0.24060407, -0.14350884, -0.19576764, -0.16846415, -0.12814185,\n",
              "         -0.00448838,  0.1850523 , -0.324196  , -0.14853889, -0.16653147,\n",
              "         -0.27329466,  0.1722565 , -0.19200823, -0.32655615,  0.06156981,\n",
              "         -0.0678072 ,  0.04520309,  0.22901145, -0.08178216,  0.01017609,\n",
              "          0.08200949,  0.21842846,  0.31420687, -0.23213303,  0.10434389,\n",
              "         -0.15683432, -0.3237869 ],\n",
              "        [-0.13593715,  0.3094193 , -0.02125728, -0.15630512, -0.04094777,\n",
              "          0.26243147,  0.08098391,  0.06224027,  0.27999398, -0.22650246,\n",
              "         -0.05344424, -0.2570832 , -0.32424465, -0.04236382,  0.2732887 ,\n",
              "         -0.05897996, -0.32898995, -0.271554  ,  0.09910536,  0.20788959,\n",
              "         -0.19923995,  0.09882998, -0.03027138,  0.15497878, -0.16683905,\n",
              "         -0.34474325,  0.12947428,  0.31485674, -0.15467404, -0.30485404,\n",
              "         -0.31654114,  0.15176651],\n",
              "        [ 0.03916711,  0.2977468 ,  0.17390084,  0.1480026 ,  0.3345542 ,\n",
              "         -0.2974646 ,  0.02174456,  0.20519537,  0.258062  , -0.2998481 ,\n",
              "          0.18506631, -0.22495316, -0.3474504 , -0.24468976, -0.17510176,\n",
              "         -0.51693505, -0.25434235,  0.3304581 ,  0.3547511 ,  0.03536138,\n",
              "         -0.3419996 ,  0.4712689 , -0.25392136, -0.24692136, -0.3097846 ,\n",
              "          0.24390447,  0.2290186 , -0.0308169 ,  0.18135315,  0.13920948,\n",
              "          0.2921529 ,  0.13314976],\n",
              "        [ 0.0778535 ,  0.4335399 , -0.20666976, -0.3523458 ,  0.29412398,\n",
              "          0.33073947,  0.13768953,  0.13233629,  0.05515143, -0.30324706,\n",
              "         -0.36694548,  0.14883205, -0.27481565, -0.04848973, -0.10472513,\n",
              "          0.1643759 , -0.08826966,  0.29246086,  0.19134267,  0.31859502,\n",
              "         -0.44756833,  0.46766928, -0.19985268, -0.09634108, -0.45636645,\n",
              "          0.32510576, -0.01093681, -0.5443371 , -0.1854581 ,  0.44547185,\n",
              "         -0.33821   , -0.14390126],\n",
              "        [ 0.05797163, -0.15445673, -0.24335355,  0.02381501,  0.2209616 ,\n",
              "         -0.19937979, -0.17434895, -0.3226991 , -0.11850993, -0.20319392,\n",
              "         -0.12542683, -0.25744778, -0.1695383 ,  0.30070677,  0.09415883,\n",
              "          0.25139555,  0.19893166,  0.05773082,  0.24852827,  0.01727101,\n",
              "         -0.07316002,  0.06367806, -0.34267992,  0.24798557, -0.29037046,\n",
              "         -0.06828102, -0.03305095,  0.24244502,  0.14733079, -0.12326157,\n",
              "          0.0110321 ,  0.21137199],\n",
              "        [ 0.27356675, -0.0976437 ,  0.09606698, -0.28322336,  0.2454386 ,\n",
              "          0.33706674, -0.21799049,  0.21868315, -0.26230848,  0.22659907,\n",
              "          0.00495705,  0.31425694,  0.29928038,  0.2659687 , -0.11082961,\n",
              "          0.22722015,  0.07835343,  0.18341699,  0.13357356, -0.26437613,\n",
              "          0.13563427,  0.34383693, -0.30339408,  0.16155985, -0.34519348,\n",
              "          0.0919607 ,  0.06814411,  0.29468325,  0.33814886,  0.31675658,\n",
              "          0.29520622, -0.13522294],\n",
              "        [-0.34005576, -0.18021832,  0.2513403 ,  0.07655191, -0.0626179 ,\n",
              "          0.07046524, -0.01719978, -0.18399999, -0.22259976, -0.01041374,\n",
              "         -0.28235614,  0.21251485,  0.07712132,  0.20741948,  0.32029828,\n",
              "         -0.06266925,  0.12520927,  0.0238229 , -0.2645417 , -0.24621412,\n",
              "          0.12377712, -0.22397712, -0.18570787,  0.20329162, -0.11965777,\n",
              "         -0.08621383, -0.01089227,  0.19571099, -0.12440224,  0.24151829,\n",
              "         -0.28929502,  0.24323055]], dtype=float32),\n",
              " array([-0.02354352, -0.09136427,  0.16393779,  0.        , -0.11992378,\n",
              "        -0.02099991, -0.01006641, -0.08439646, -0.08178217, -0.02607847,\n",
              "         0.28764153,  0.        , -0.04223916, -0.0103503 , -0.03909649,\n",
              "         0.16808559,  0.25636268, -0.0982469 , -0.06559744,  0.        ,\n",
              "         0.2975637 , -0.07961287,  0.        ,  0.2588548 ,  0.29934773,\n",
              "        -0.07380296, -0.00412117,  0.2845047 ,  0.14815314, -0.12235983,\n",
              "        -0.0140983 ,  0.29760447], dtype=float32),\n",
              " array([[ 0.05760407, -0.3080967 ],\n",
              "        [-0.396051  ,  0.47584292],\n",
              "        [ 0.39663363, -0.0785275 ],\n",
              "        [-0.34921625, -0.30665082],\n",
              "        [-0.16271585,  0.5215958 ],\n",
              "        [-0.25864536,  0.12393545],\n",
              "        [ 0.06245403, -0.16275604],\n",
              "        [-0.0045898 ,  0.45227623],\n",
              "        [-0.39273202,  0.6665447 ],\n",
              "        [-0.23810884, -0.03556123],\n",
              "        [ 0.15573162, -0.7403455 ],\n",
              "        [ 0.18426391, -0.27845484],\n",
              "        [-0.23430681,  0.16876853],\n",
              "        [-0.38345444,  0.40549567],\n",
              "        [-0.35467345,  0.20793489],\n",
              "        [ 0.07961149, -0.4789137 ],\n",
              "        [ 0.40891153, -0.88580453],\n",
              "        [-0.2315216 ,  0.46064806],\n",
              "        [-0.33865884,  0.42833593],\n",
              "        [-0.09835514,  0.14817604],\n",
              "        [ 0.36523625, -0.73197114],\n",
              "        [-0.08176995,  0.5098901 ],\n",
              "        [ 0.20103559, -0.1858012 ],\n",
              "        [ 0.2112238 , -0.7284706 ],\n",
              "        [ 0.8294281 , -0.4234837 ],\n",
              "        [-0.25259838,  0.07961728],\n",
              "        [ 0.35125154,  0.08659547],\n",
              "        [ 0.65333843, -0.30390516],\n",
              "        [-0.07083985, -0.33583707],\n",
              "        [-0.5543791 ,  0.04015772],\n",
              "        [-0.40172115, -0.0491491 ],\n",
              "        [ 0.806297  , -0.23366314]], dtype=float32),\n",
              " array([ 0.16163343, -0.1616334 ], dtype=float32)]"
            ]
          },
          "metadata": {
            "tags": []
          },
          "execution_count": 30
        }
      ]
    },
    {
      "cell_type": "code",
      "metadata": {
        "colab": {
          "base_uri": "https://localhost:8080/"
        },
        "id": "XCa9bFMoQKN7",
        "outputId": "79959355-eef5-473f-f375-a6102ad54c84"
      },
      "source": [
        "new_model.optimizer"
      ],
      "execution_count": 31,
      "outputs": [
        {
          "output_type": "execute_result",
          "data": {
            "text/plain": [
              "<tensorflow.python.keras.optimizer_v2.adam.Adam at 0x7f4c8a5ac750>"
            ]
          },
          "metadata": {
            "tags": []
          },
          "execution_count": 31
        }
      ]
    },
    {
      "cell_type": "markdown",
      "metadata": {
        "id": "qTEWk4vKQQEX"
      },
      "source": [
        "# To json\n",
        "\n",
        "saves only the architecture"
      ]
    },
    {
      "cell_type": "code",
      "metadata": {
        "id": "z4klQuzsQMcK"
      },
      "source": [
        "json_string = model.to_json()\n",
        "# model_to_yaml()"
      ],
      "execution_count": 33,
      "outputs": []
    },
    {
      "cell_type": "code",
      "metadata": {
        "id": "0oR0Xt42QbaB"
      },
      "source": [
        "from tensorflow.keras.models import model_from_json\n",
        "\n",
        "model_architecture = model_from_json(json_string)\n",
        "# model_architecture = model_from_yaml(json_string)"
      ],
      "execution_count": 34,
      "outputs": []
    },
    {
      "cell_type": "markdown",
      "metadata": {
        "id": "sxjPDllPQ6DR"
      },
      "source": [
        "# Only the model weights"
      ]
    },
    {
      "cell_type": "code",
      "metadata": {
        "id": "bi3UteRJQuS7"
      },
      "source": [
        "import os.path\n",
        "\n",
        "if os.path.isfile('models/my_model_weights.h5') is False:\n",
        "  model.save_weights('models/my_model_weights.h5')"
      ],
      "execution_count": 37,
      "outputs": []
    },
    {
      "cell_type": "code",
      "metadata": {
        "id": "PDrjnQx0RDNj"
      },
      "source": [
        "model2 = Sequential([\n",
        "                    Dense(units=16, input_shape=(1,), activation = 'relu'),\n",
        "                    Dense(units=32, activation='relu'),\n",
        "                    Dense(units=2, activation='softmax')\n",
        "])\n",
        "\n",
        "model2.load_weights('models/my_model_weights.h5')"
      ],
      "execution_count": 38,
      "outputs": []
    },
    {
      "cell_type": "code",
      "metadata": {
        "id": "FHTfWSu8RTJR"
      },
      "source": [
        "model2.get_weights()"
      ],
      "execution_count": null,
      "outputs": []
    }
  ]
}